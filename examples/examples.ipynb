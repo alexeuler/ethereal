{
 "cells": [
  {
   "cell_type": "code",
   "execution_count": 1,
   "id": "143a6db9-07e5-42dd-90cf-b393796f0d46",
   "metadata": {
    "tags": []
   },
   "outputs": [],
   "source": [
    "import os, sys\n",
    "sys.path.insert(1, os.path.join(sys.path[0], \"..\"))"
   ]
  },
  {
   "cell_type": "markdown",
   "id": "fa5eac74-0bf2-4450-bab1-c816ab92b7a6",
   "metadata": {},
   "source": []
  },
  {
   "cell_type": "code",
   "execution_count": 2,
   "id": "358aa844-6e93-40bb-90a5-fdd1b81079ff",
   "metadata": {
    "tags": []
   },
   "outputs": [],
   "source": [
    "from web3.auto import w3\n",
    "from ethereal import Ethereal\n",
    "from ethereal import load_provider_from_uri\n",
    "\n",
    "# If WEB3_PROVIDER_URI env is not set, uncomment the lines below\n",
    "# w3 = Web3(load_provider_from_uri(\"https://alchemy.com/...\"))\n",
    "\n",
    "w3 = Ethereal(w3)"
   ]
  },
  {
   "cell_type": "code",
   "execution_count": 3,
   "id": "e6b94239-caa4-4cb2-978c-f2a4653bd067",
   "metadata": {},
   "outputs": [
    {
     "data": {
      "text/plain": [
       "['Approval(indexed address owner,indexed address spender,uint256 value)',\n",
       " 'Blocked(indexed address account)',\n",
       " 'BlocklisterChanged(indexed address account)',\n",
       " 'CancelledRecovery(indexed bytes32 hash)',\n",
       " 'ExecutedRecovery(indexed bytes32 hash,uint256 value)',\n",
       " 'OwnershipTransferred(indexed address previousOwner,indexed address newOwner)',\n",
       " 'RequestedRecovery(indexed bytes32 hash,uint256 requestTimestamp,uint256 executionTimestamp,address[] accounts,uint256[] values)',\n",
       " 'Transfer(indexed address from,indexed address to,uint256 value)',\n",
       " 'Unblocked(indexed address account)',\n",
       " 'UpdateMinter(indexed address minter,bool canMint,bool canBurn)']"
      ]
     },
     "execution_count": 3,
     "metadata": {},
     "output_type": "execute_result"
    }
   ],
   "source": [
    "ADDRESS = \"0xB0B195aEFA3650A6908f15CdaC7D92F8a5791B0B\"\n",
    "w3.e.list_events(ADDRESS)"
   ]
  },
  {
   "cell_type": "code",
   "execution_count": 4,
   "id": "2abe0af3-5f4b-48c0-8d3b-078ea405fa39",
   "metadata": {
    "tags": []
   },
   "outputs": [
    {
     "data": {
      "text/plain": [
       "[{'args': {'from': '0x3887E82dBdBE8Ec6Db44E6298a2D48Af572A3b78',\n",
       "   'to': '0xC0D19f4FAE83EB51B2adb59EB649c7BC2b19B2f6',\n",
       "   'value': 1705905077765505380544},\n",
       "  'event': 'Transfer',\n",
       "  'logIndex': 8,\n",
       "  'transactionIndex': 1,\n",
       "  'transactionHash': '0x5fd3a1a7428b9fd139b9f9a3fdcbc4e7679fa01367268bc63b8a220870b98610',\n",
       "  'address': '0xB0B195aEFA3650A6908f15CdaC7D92F8a5791B0B',\n",
       "  'blockHash': '0x7acbf5572040963d77cfcc0552cfd716e2c600db7b873ac36f3fcaa6fd8e414f',\n",
       "  'blockNumber': 16307851,\n",
       "  'estimatedTimestamp': 1672527163,\n",
       "  'estimatedDate': '2023-01-01T02:52:43'},\n",
       " {'args': {'from': '0x0230dDd838e499865405042560E72AA38324acd1',\n",
       "   'to': '0x3887E82dBdBE8Ec6Db44E6298a2D48Af572A3b78',\n",
       "   'value': 1430535119440698932204},\n",
       "  'event': 'Transfer',\n",
       "  'logIndex': 33,\n",
       "  'transactionIndex': 8,\n",
       "  'transactionHash': '0x95ee1386a203e9654f32fe4dfe9f8a47946b50fe62164491cd65ecdabf58ea28',\n",
       "  'address': '0xB0B195aEFA3650A6908f15CdaC7D92F8a5791B0B',\n",
       "  'blockHash': '0x56638c33fb54ac39b2bfc9deba975884bafa1250549b9e218927c81a771be8d9',\n",
       "  'blockNumber': 16313404,\n",
       "  'estimatedTimestamp': 1672594161,\n",
       "  'estimatedDate': '2023-01-01T21:29:21'},\n",
       " {'args': {'from': '0x3887E82dBdBE8Ec6Db44E6298a2D48Af572A3b78',\n",
       "   'to': '0xC0D19f4FAE83EB51B2adb59EB649c7BC2b19B2f6',\n",
       "   'value': 1676210905478061017194},\n",
       "  'event': 'Transfer',\n",
       "  'logIndex': 26,\n",
       "  'transactionIndex': 1,\n",
       "  'transactionHash': '0x9503ba51913aaee42ae557c96c49fa3c57230db234de5abcb5a534b92e22c587',\n",
       "  'address': '0xB0B195aEFA3650A6908f15CdaC7D92F8a5791B0B',\n",
       "  'blockHash': '0x2179dcd7f3afb467c6936da33d1478c0680a85479cc18dbf8305fec59d528108',\n",
       "  'blockNumber': 16315750,\n",
       "  'estimatedTimestamp': 1672622466,\n",
       "  'estimatedDate': '2023-01-02T05:21:06'},\n",
       " {'args': {'from': '0x0230dDd838e499865405042560E72AA38324acd1',\n",
       "   'to': '0x3887E82dBdBE8Ec6Db44E6298a2D48Af572A3b78',\n",
       "   'value': 1769204583461687955470},\n",
       "  'event': 'Transfer',\n",
       "  'logIndex': 30,\n",
       "  'transactionIndex': 1,\n",
       "  'transactionHash': '0xad29a08447898e0241d1fbdb8c5518ec3842f9c0824bf9e08f6a7251eba567e4',\n",
       "  'address': '0xB0B195aEFA3650A6908f15CdaC7D92F8a5791B0B',\n",
       "  'blockHash': '0x22579847e4a8494c6ea0584d71ca89606da646dc319f448f5fe22e0722ecb6c6',\n",
       "  'blockNumber': 16316534,\n",
       "  'estimatedTimestamp': 1672631925,\n",
       "  'estimatedDate': '2023-01-02T07:58:45'},\n",
       " {'args': {'from': '0xC0D19f4FAE83EB51B2adb59EB649c7BC2b19B2f6',\n",
       "   'to': '0xdb7A53E6AE058E1Dcf4502341E2ADFA522E2B29F',\n",
       "   'value': 2908937477667196753840},\n",
       "  'event': 'Transfer',\n",
       "  'logIndex': 240,\n",
       "  'transactionIndex': 115,\n",
       "  'transactionHash': '0x412e8ed0a275358f9e804adb557d07a24cdf30924971e42512d3b4a944ee57b4',\n",
       "  'address': '0xB0B195aEFA3650A6908f15CdaC7D92F8a5791B0B',\n",
       "  'blockHash': '0x311aa1f0e52653338810f942c1e93521ca658e8e54b2b5293a9217cf1e163783',\n",
       "  'blockNumber': 16317534,\n",
       "  'estimatedTimestamp': 1672643991,\n",
       "  'estimatedDate': '2023-01-02T11:19:51'},\n",
       " {'args': {'from': '0xdb7A53E6AE058E1Dcf4502341E2ADFA522E2B29F',\n",
       "   'to': '0x3887E82dBdBE8Ec6Db44E6298a2D48Af572A3b78',\n",
       "   'value': 2908937477667196753840},\n",
       "  'event': 'Transfer',\n",
       "  'logIndex': 244,\n",
       "  'transactionIndex': 115,\n",
       "  'transactionHash': '0x412e8ed0a275358f9e804adb557d07a24cdf30924971e42512d3b4a944ee57b4',\n",
       "  'address': '0xB0B195aEFA3650A6908f15CdaC7D92F8a5791B0B',\n",
       "  'blockHash': '0x311aa1f0e52653338810f942c1e93521ca658e8e54b2b5293a9217cf1e163783',\n",
       "  'blockNumber': 16317534,\n",
       "  'estimatedTimestamp': 1672643991,\n",
       "  'estimatedDate': '2023-01-02T11:19:51'},\n",
       " {'args': {'from': '0xC0D19f4FAE83EB51B2adb59EB649c7BC2b19B2f6',\n",
       "   'to': '0x3887E82dBdBE8Ec6Db44E6298a2D48Af572A3b78',\n",
       "   'value': 1609296157369031370394},\n",
       "  'event': 'Transfer',\n",
       "  'logIndex': 111,\n",
       "  'transactionIndex': 22,\n",
       "  'transactionHash': '0xd653d3b71600f5cc22375853dbea4814cf2018471af5391c16567b6a93938a25',\n",
       "  'address': '0xB0B195aEFA3650A6908f15CdaC7D92F8a5791B0B',\n",
       "  'blockHash': '0x75f1b0e5eff20332e881e164e2650e831f8008594d7e41487549ef8c45477fc1',\n",
       "  'blockNumber': 16318149,\n",
       "  'estimatedTimestamp': 1672651411,\n",
       "  'estimatedDate': '2023-01-02T13:23:31'},\n",
       " {'args': {'from': '0x3887E82dBdBE8Ec6Db44E6298a2D48Af572A3b78',\n",
       "   'to': '0x4Fe5b965E3BD76eFf36280471030ef9b0E6e2C1D',\n",
       "   'value': 12166282461175927290},\n",
       "  'event': 'Transfer',\n",
       "  'logIndex': 282,\n",
       "  'transactionIndex': 119,\n",
       "  'transactionHash': '0xdd2a6383d377275a8fb406ed62b003123025f715b856f4801c4d0c729660bcda',\n",
       "  'address': '0xB0B195aEFA3650A6908f15CdaC7D92F8a5791B0B',\n",
       "  'blockHash': '0xde64308b933f279bf8a2d4105176b95cd3cf6c189a79fa06f9d646922f534746',\n",
       "  'blockNumber': 16326276,\n",
       "  'estimatedTimestamp': 1672749465,\n",
       "  'estimatedDate': '2023-01-03T16:37:45'},\n",
       " {'args': {'from': '0x4Fe5b965E3BD76eFf36280471030ef9b0E6e2C1D',\n",
       "   'to': '0xB0071C7C0F1cB45b947562048EFA9A9505511D73',\n",
       "   'value': 12166282461175927290},\n",
       "  'event': 'Transfer',\n",
       "  'logIndex': 286,\n",
       "  'transactionIndex': 119,\n",
       "  'transactionHash': '0xdd2a6383d377275a8fb406ed62b003123025f715b856f4801c4d0c729660bcda',\n",
       "  'address': '0xB0B195aEFA3650A6908f15CdaC7D92F8a5791B0B',\n",
       "  'blockHash': '0xde64308b933f279bf8a2d4105176b95cd3cf6c189a79fa06f9d646922f534746',\n",
       "  'blockNumber': 16326276,\n",
       "  'estimatedTimestamp': 1672749465,\n",
       "  'estimatedDate': '2023-01-03T16:37:45'},\n",
       " {'args': {'from': '0xB0071C7C0F1cB45b947562048EFA9A9505511D73',\n",
       "   'to': '0x3887E82dBdBE8Ec6Db44E6298a2D48Af572A3b78',\n",
       "   'value': 12166282461175927290},\n",
       "  'event': 'Transfer',\n",
       "  'logIndex': 371,\n",
       "  'transactionIndex': 213,\n",
       "  'transactionHash': '0xc143b8f92495588a9f975a87ccb57dc64c8c2e49744d90faf5f861c03a0031d6',\n",
       "  'address': '0xB0B195aEFA3650A6908f15CdaC7D92F8a5791B0B',\n",
       "  'blockHash': '0xc0fbecbbeb5b48d639ba21fba9cca773a7df4a7a670c5edc798bd2dc40a4d903',\n",
       "  'blockNumber': 16326534,\n",
       "  'estimatedTimestamp': 1672752578,\n",
       "  'estimatedDate': '2023-01-03T17:29:38'}]"
      ]
     },
     "execution_count": 4,
     "metadata": {},
     "output_type": "execute_result"
    }
   ],
   "source": [
    "events = w3.e.get_events(ADDRESS, \"Transfer\", \"2023-01-01\", \"2023-02-14\")\n",
    "events[:10]"
   ]
  },
  {
   "cell_type": "code",
   "execution_count": 5,
   "id": "742b7f3f-8154-4e23-940c-811fa95ba011",
   "metadata": {},
   "outputs": [
    {
     "name": "stdout",
     "output_type": "stream",
     "text": [
      "1341934\n"
     ]
    },
    {
     "data": {
      "text/plain": [
       "[{'args': {'from': '0xA9D1e08C7793af67e9d92fe308d5697FB81d3E43',\n",
       "   'to': '0xBBa159EA9e3121f4DB3858fBf4aAf025A945b7cd',\n",
       "   'value': 145697257},\n",
       "  'event': 'Transfer',\n",
       "  'logIndex': 40,\n",
       "  'transactionIndex': 32,\n",
       "  'transactionHash': '0x2e90a1ea1ba2364a98a8a0233ec8012f8239e43a924939ec81277a95d28d119b',\n",
       "  'address': '0xA0b86991c6218b36c1d19D4a2e9Eb0cE3606eB48',\n",
       "  'blockHash': '0x334b8b83dd38e636c7c3f4f216accc905ddf4d0f7c9744cdb1241c1103d503bb',\n",
       "  'blockNumber': 16529057,\n",
       "  'estimatedTimestamp': 1675195211,\n",
       "  'estimatedDate': '2023-02-01T00:00:11'},\n",
       " {'args': {'from': '0xA9D1e08C7793af67e9d92fe308d5697FB81d3E43',\n",
       "   'to': '0xf3a0b2D05fe2DC359761115e330b33396Bf5613f',\n",
       "   'value': 5496000000},\n",
       "  'event': 'Transfer',\n",
       "  'logIndex': 41,\n",
       "  'transactionIndex': 32,\n",
       "  'transactionHash': '0x2e90a1ea1ba2364a98a8a0233ec8012f8239e43a924939ec81277a95d28d119b',\n",
       "  'address': '0xA0b86991c6218b36c1d19D4a2e9Eb0cE3606eB48',\n",
       "  'blockHash': '0x334b8b83dd38e636c7c3f4f216accc905ddf4d0f7c9744cdb1241c1103d503bb',\n",
       "  'blockNumber': 16529057,\n",
       "  'estimatedTimestamp': 1675195211,\n",
       "  'estimatedDate': '2023-02-01T00:00:11'},\n",
       " {'args': {'from': '0xA9D1e08C7793af67e9d92fe308d5697FB81d3E43',\n",
       "   'to': '0x8f86570581C1114A8A886117A8a30c77A6FFBC80',\n",
       "   'value': 9990000000},\n",
       "  'event': 'Transfer',\n",
       "  'logIndex': 42,\n",
       "  'transactionIndex': 32,\n",
       "  'transactionHash': '0x2e90a1ea1ba2364a98a8a0233ec8012f8239e43a924939ec81277a95d28d119b',\n",
       "  'address': '0xA0b86991c6218b36c1d19D4a2e9Eb0cE3606eB48',\n",
       "  'blockHash': '0x334b8b83dd38e636c7c3f4f216accc905ddf4d0f7c9744cdb1241c1103d503bb',\n",
       "  'blockNumber': 16529057,\n",
       "  'estimatedTimestamp': 1675195211,\n",
       "  'estimatedDate': '2023-02-01T00:00:11'},\n",
       " {'args': {'from': '0xA9D1e08C7793af67e9d92fe308d5697FB81d3E43',\n",
       "   'to': '0x05CC8BDd80AA16a211851c6F4Bdd63BcA09B3e1B',\n",
       "   'value': 11212000000},\n",
       "  'event': 'Transfer',\n",
       "  'logIndex': 43,\n",
       "  'transactionIndex': 32,\n",
       "  'transactionHash': '0x2e90a1ea1ba2364a98a8a0233ec8012f8239e43a924939ec81277a95d28d119b',\n",
       "  'address': '0xA0b86991c6218b36c1d19D4a2e9Eb0cE3606eB48',\n",
       "  'blockHash': '0x334b8b83dd38e636c7c3f4f216accc905ddf4d0f7c9744cdb1241c1103d503bb',\n",
       "  'blockNumber': 16529057,\n",
       "  'estimatedTimestamp': 1675195211,\n",
       "  'estimatedDate': '2023-02-01T00:00:11'},\n",
       " {'args': {'from': '0xF564CA78A482AafD99b1024da8AD0594f903BBbc',\n",
       "   'to': '0xAF0B0000f0210D0f421F0009C72406703B50506B',\n",
       "   'value': 2500000000},\n",
       "  'event': 'Transfer',\n",
       "  'logIndex': 157,\n",
       "  'transactionIndex': 52,\n",
       "  'transactionHash': '0x76dd048ce9cc5f8e963614396bf4fbe0cfddccc8d7d3fd50aaa1ed80cee37cc8',\n",
       "  'address': '0xA0b86991c6218b36c1d19D4a2e9Eb0cE3606eB48',\n",
       "  'blockHash': '0x334b8b83dd38e636c7c3f4f216accc905ddf4d0f7c9744cdb1241c1103d503bb',\n",
       "  'blockNumber': 16529057,\n",
       "  'estimatedTimestamp': 1675195211,\n",
       "  'estimatedDate': '2023-02-01T00:00:11'},\n",
       " {'args': {'from': '0x8e050DBe9Ca3264193739a37c21A709974E3849B',\n",
       "   'to': '0xf60c2Ea62EDBfE808163751DD0d8693DCb30019c',\n",
       "   'value': 2700000000},\n",
       "  'event': 'Transfer',\n",
       "  'logIndex': 162,\n",
       "  'transactionIndex': 56,\n",
       "  'transactionHash': '0xf0e9e4a56a2f50c01c2631b3eb850761ef40cc9aea72b77b727e77375c06a1c8',\n",
       "  'address': '0xA0b86991c6218b36c1d19D4a2e9Eb0cE3606eB48',\n",
       "  'blockHash': '0x334b8b83dd38e636c7c3f4f216accc905ddf4d0f7c9744cdb1241c1103d503bb',\n",
       "  'blockNumber': 16529057,\n",
       "  'estimatedTimestamp': 1675195211,\n",
       "  'estimatedDate': '2023-02-01T00:00:11'},\n",
       " {'args': {'from': '0x46F2535c217fE27B7a807A32A8F9f870EF8439Dc',\n",
       "   'to': '0x28C6c06298d514Db089934071355E5743bf21d60',\n",
       "   'value': 8000000000},\n",
       "  'event': 'Transfer',\n",
       "  'logIndex': 184,\n",
       "  'transactionIndex': 97,\n",
       "  'transactionHash': '0x2c969284544681f3dd52973fce9ff83c606da7bd8c25a33357afda8d1208ca0e',\n",
       "  'address': '0xA0b86991c6218b36c1d19D4a2e9Eb0cE3606eB48',\n",
       "  'blockHash': '0x334b8b83dd38e636c7c3f4f216accc905ddf4d0f7c9744cdb1241c1103d503bb',\n",
       "  'blockNumber': 16529057,\n",
       "  'estimatedTimestamp': 1675195211,\n",
       "  'estimatedDate': '2023-02-01T00:00:11'},\n",
       " {'args': {'from': '0x26783814d6a41Fe8330b656207C6462e2b401F23',\n",
       "   'to': '0x28C6c06298d514Db089934071355E5743bf21d60',\n",
       "   'value': 4917899383},\n",
       "  'event': 'Transfer',\n",
       "  'logIndex': 192,\n",
       "  'transactionIndex': 112,\n",
       "  'transactionHash': '0x39421d70768e0b3e6fb1b86c76b28c5b0d0fc056c5309a43c9c8246f3255460f',\n",
       "  'address': '0xA0b86991c6218b36c1d19D4a2e9Eb0cE3606eB48',\n",
       "  'blockHash': '0x334b8b83dd38e636c7c3f4f216accc905ddf4d0f7c9744cdb1241c1103d503bb',\n",
       "  'blockNumber': 16529057,\n",
       "  'estimatedTimestamp': 1675195211,\n",
       "  'estimatedDate': '2023-02-01T00:00:11'},\n",
       " {'args': {'from': '0x15b7521af5EF603656BcCB4101800B4C17EF3Fb2',\n",
       "   'to': '0x28C6c06298d514Db089934071355E5743bf21d60',\n",
       "   'value': 2716450000},\n",
       "  'event': 'Transfer',\n",
       "  'logIndex': 201,\n",
       "  'transactionIndex': 119,\n",
       "  'transactionHash': '0x40c4a8a582f212b78a84dead62c63548d6fba28066826dccdee0c2be86c1de66',\n",
       "  'address': '0xA0b86991c6218b36c1d19D4a2e9Eb0cE3606eB48',\n",
       "  'blockHash': '0x334b8b83dd38e636c7c3f4f216accc905ddf4d0f7c9744cdb1241c1103d503bb',\n",
       "  'blockNumber': 16529057,\n",
       "  'estimatedTimestamp': 1675195211,\n",
       "  'estimatedDate': '2023-02-01T00:00:11'},\n",
       " {'args': {'from': '0x3b5eF345982DC469703a1fC30A1Fba29938667DF',\n",
       "   'to': '0x28C6c06298d514Db089934071355E5743bf21d60',\n",
       "   'value': 7500000000},\n",
       "  'event': 'Transfer',\n",
       "  'logIndex': 203,\n",
       "  'transactionIndex': 122,\n",
       "  'transactionHash': '0x5edd8afc7251ce05ec0d2f72318ade006082ee085fcfb628f4f23650e4bcd754',\n",
       "  'address': '0xA0b86991c6218b36c1d19D4a2e9Eb0cE3606eB48',\n",
       "  'blockHash': '0x334b8b83dd38e636c7c3f4f216accc905ddf4d0f7c9744cdb1241c1103d503bb',\n",
       "  'blockNumber': 16529057,\n",
       "  'estimatedTimestamp': 1675195211,\n",
       "  'estimatedDate': '2023-02-01T00:00:11'}]"
      ]
     },
     "execution_count": 5,
     "metadata": {},
     "output_type": "execute_result"
    }
   ],
   "source": [
    "ADDRESS = \"0xa0b86991c6218b36c1d19d4a2e9eb0ce3606eb48\"\n",
    "events = w3.e.get_events(ADDRESS, \"Transfer\", \"2023-02-01\", \"2023-02-14\")\n",
    "print(len(events))\n",
    "events[:10]"
   ]
  },
  {
   "cell_type": "code",
   "execution_count": 6,
   "id": "d2866da4-5d7f-4d0e-8a9b-53914c5dd144",
   "metadata": {},
   "outputs": [
    {
     "data": {
      "text/plain": [
       "{'address': '0x3b877e74fA3BAf84538979AA6103A7FC0f9aceeB',\n",
       " 'private_key': 'dcf26032e2b96d787471aae7465c8c00d0405e6069b466f76164f11b1c661e70'}"
      ]
     },
     "execution_count": 6,
     "metadata": {},
     "output_type": "execute_result"
    }
   ],
   "source": [
    "w3.e.derive_account(\"model scan erase welcome craft cycle feed immense page gold route divorce\", 0)"
   ]
  },
  {
   "cell_type": "code",
   "execution_count": null,
   "id": "d68a7e0a-bdb9-4616-b22f-f0383dc559a2",
   "metadata": {},
   "outputs": [],
   "source": []
  }
 ],
 "metadata": {
  "kernelspec": {
   "display_name": "Python 3 (ipykernel)",
   "language": "python",
   "name": "python3"
  },
  "language_info": {
   "codemirror_mode": {
    "name": "ipython",
    "version": 3
   },
   "file_extension": ".py",
   "mimetype": "text/x-python",
   "name": "python",
   "nbconvert_exporter": "python",
   "pygments_lexer": "ipython3",
   "version": "3.10.9"
  }
 },
 "nbformat": 4,
 "nbformat_minor": 5
}
